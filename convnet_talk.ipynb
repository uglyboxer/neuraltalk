{
 "cells": [
  {
   "cell_type": "markdown",
   "metadata": {},
   "source": [
    "# Convolutional Neural Nets\n",
    "### or, When What Your Neighbor Says Matters"
   ]
  },
  {
   "cell_type": "code",
   "execution_count": null,
   "metadata": {
    "collapsed": true
   },
   "outputs": [],
   "source": [
    "# # Digit Recognizer in Python using Convolutional Neural Nets\n",
    "# by [Koba Khitalishvili](http://www.kobakhit.com/)"
   ]
  },
  {
   "cell_type": "code",
   "execution_count": 1,
   "metadata": {
    "collapsed": false
   },
   "outputs": [],
   "source": [
    "import lasagne\n",
    "from lasagne import layers\n",
    "from lasagne.updates import nesterov_momentum\n",
    "from nolearn.lasagne import NeuralNet\n",
    "from nolearn.lasagne import visualize\n",
    "import pandas as pd\n",
    "import numpy as np\n",
    "import matplotlib.pyplot as plt\n",
    "import matplotlib.cm as cm"
   ]
  },
  {
   "cell_type": "code",
   "execution_count": 27,
   "metadata": {
    "collapsed": false
   },
   "outputs": [],
   "source": [
    "dataset = pd.read_csv(\"train.csv\")\n",
    "target = dataset[[0]].values.ravel()\n",
    "train = dataset.iloc[:,1:].values\n",
    "test = pd.read_csv(\"test.csv\").values"
   ]
  },
  {
   "cell_type": "code",
   "execution_count": 28,
   "metadata": {
    "collapsed": false
   },
   "outputs": [],
   "source": [
    "target = target.astype(np.uint8)\n",
    "train = np.array(train).reshape((-1, 1, 28, 28)).astype(np.uint8)\n",
    "test = np.array(test).reshape((-1, 1, 28, 28)).astype(np.uint8)"
   ]
  },
  {
   "cell_type": "code",
   "execution_count": 4,
   "metadata": {
    "collapsed": false
   },
   "outputs": [],
   "source": [
    "# plt.imshow(train[1729][0], cmap=cm.binary)\n",
    "# plt.show()"
   ]
  },
  {
   "cell_type": "code",
   "execution_count": 26,
   "metadata": {
    "collapsed": false
   },
   "outputs": [
    {
     "name": "stdout",
     "output_type": "stream",
     "text": [
      "# Neural Network with 2401770 learnable parameters\n",
      "\n",
      "## Layer information\n",
      "\n",
      "  #  name     size\n",
      "---  -------  --------\n",
      "  0  input    1x28x28\n",
      "  1  conv1    6x26x26\n",
      "  2  pool1    6x13x13\n",
      "  3  conv2    10x12x12\n",
      "  4  hidden3  1000\n",
      "  5  hidden4  950\n",
      "  6  output   10\n",
      "\n",
      "  epoch    train loss    valid loss    train/val    valid acc  dur\n",
      "-------  ------------  ------------  -----------  -----------  ------\n",
      "      1       \u001b[36m2.30290\u001b[0m       \u001b[32m2.30229\u001b[0m      1.00027      0.11051  23.96s\n",
      "      2       \u001b[36m2.30194\u001b[0m       \u001b[32m2.30137\u001b[0m      1.00025      0.12300  24.27s\n",
      "      3       \u001b[36m2.30105\u001b[0m       \u001b[32m2.30050\u001b[0m      1.00024      0.13341  24.75s\n",
      "      4       \u001b[36m2.30018\u001b[0m       \u001b[32m2.29966\u001b[0m      1.00023      0.13998  26.41s\n"
     ]
    }
   ],
   "source": [
    "def CNN(n_epochs):\n",
    "    net1 = NeuralNet(\n",
    "        layers=[\n",
    "        ('input', layers.InputLayer),\n",
    "        ('conv1', layers.Conv2DLayer),\n",
    "        ('pool1', layers.MaxPool2DLayer),   \n",
    "        ('conv2', layers.Conv2DLayer),\n",
    "        ('hidden3', layers.DenseLayer),\n",
    "        ('hidden4', layers.DenseLayer),\n",
    "        ('output', layers.DenseLayer),\n",
    "        ],\n",
    "\n",
    "    input_shape=(None, 1, 28, 28),\n",
    "    conv1_num_filters=6, \n",
    "    conv1_filter_size=(3, 3), \n",
    "    conv1_nonlinearity=lasagne.nonlinearities.rectify,\n",
    "        \n",
    "    pool1_pool_size=(2, 2),\n",
    "        \n",
    "    conv2_num_filters=10, \n",
    "    conv2_filter_size=(2, 2),    \n",
    "    conv2_nonlinearity=lasagne.nonlinearities.rectify,\n",
    "        \n",
    "    hidden3_num_units=1000,\n",
    "    hidden4_num_units=950,\n",
    "    output_num_units=10, \n",
    "    output_nonlinearity=lasagne.nonlinearities.softmax,\n",
    "\n",
    "    update_learning_rate=0.0001,\n",
    "    update_momentum=0.9,\n",
    "\n",
    "    max_epochs=n_epochs,\n",
    "    verbose=1,\n",
    "    )\n",
    "    return net1\n",
    "\n",
    "cnn = CNN(10).fit(train,target) # train the CNN model for 15 epochs"
   ]
  },
  {
   "cell_type": "code",
   "execution_count": 20,
   "metadata": {
    "collapsed": true
   },
   "outputs": [],
   "source": [
    "pred = cnn.predict(test)\n",
    "\n",
    "# save results\n",
    "np.savetxt('submission_cnn.csv', np.c_[range(1,len(test)+1),pred], delimiter=',', header = 'ImageId,Label', comments = '', fmt='%d')"
   ]
  },
  {
   "cell_type": "code",
   "execution_count": 17,
   "metadata": {
    "collapsed": false
   },
   "outputs": [],
   "source": [
    "# visualize.plot_conv_weights(cnn.layers_['conv1'])\n",
    "# plt.show()"
   ]
  },
  {
   "cell_type": "markdown",
   "metadata": {},
   "source": [
    "## Need to normalize data?\n",
    "\n",
    "## Visualize number, after 1st layer, after 2nd layer, filter weights"
   ]
  }
 ],
 "metadata": {
  "kernelspec": {
   "display_name": "Python 2",
   "language": "python",
   "name": "python2"
  },
  "language_info": {
   "codemirror_mode": {
    "name": "ipython",
    "version": 2
   },
   "file_extension": ".py",
   "mimetype": "text/x-python",
   "name": "python",
   "nbconvert_exporter": "python",
   "pygments_lexer": "ipython2",
   "version": "2.7.11"
  }
 },
 "nbformat": 4,
 "nbformat_minor": 0
}
